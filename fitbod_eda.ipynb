{
 "cells": [
  {
   "cell_type": "markdown",
   "id": "04c5d723",
   "metadata": {},
   "source": [
    "# Fitbod Data Challange"
   ]
  },
  {
   "cell_type": "markdown",
   "id": "cf32e409",
   "metadata": {},
   "source": [
    "### Importing the required packages"
   ]
  },
  {
   "cell_type": "code",
   "execution_count": 335,
   "id": "48909cd4",
   "metadata": {},
   "outputs": [],
   "source": [
    "import pandas as pd\n",
    "import numpy as np\n",
    "import pandasql as ps\n",
    "from pandas_profiling import ProfileReport\n",
    "from matplotlib import pyplot as plt \n",
    "%matplotlib inline\n",
    "import os\n",
    "import seaborn as sns"
   ]
  },
  {
   "cell_type": "markdown",
   "id": "a38a29df",
   "metadata": {},
   "source": [
    "Loading the data "
   ]
  },
  {
   "cell_type": "code",
   "execution_count": 336,
   "id": "92a58361",
   "metadata": {},
   "outputs": [],
   "source": [
    "path = os.getcwd() + '/fitbod_Sravani_Sigadam_20211115-163913.csv'\n",
    "fitness_data = pd.read_csv(filepath_or_buffer = path,index_col= False)"
   ]
  },
  {
   "cell_type": "markdown",
   "id": "2f09483b",
   "metadata": {},
   "source": [
    "## Exploratory Analysis"
   ]
  },
  {
   "cell_type": "code",
   "execution_count": 431,
   "id": "15a1a709",
   "metadata": {},
   "outputs": [
    {
     "data": {
      "text/html": [
       "<div>\n",
       "<style scoped>\n",
       "    .dataframe tbody tr th:only-of-type {\n",
       "        vertical-align: middle;\n",
       "    }\n",
       "\n",
       "    .dataframe tbody tr th {\n",
       "        vertical-align: top;\n",
       "    }\n",
       "\n",
       "    .dataframe thead th {\n",
       "        text-align: right;\n",
       "    }\n",
       "</style>\n",
       "<table border=\"1\" class=\"dataframe\">\n",
       "  <thead>\n",
       "    <tr style=\"text-align: right;\">\n",
       "      <th></th>\n",
       "      <th>Date</th>\n",
       "      <th>workoutId</th>\n",
       "      <th>exerciseId</th>\n",
       "      <th>singleSetId</th>\n",
       "      <th>exerciseName</th>\n",
       "      <th>reps</th>\n",
       "      <th>weight</th>\n",
       "      <th>fake_user_id</th>\n",
       "    </tr>\n",
       "  </thead>\n",
       "  <tbody>\n",
       "    <tr>\n",
       "      <th>0</th>\n",
       "      <td>2021-07-12</td>\n",
       "      <td>W2NPPL0cw1</td>\n",
       "      <td>olwH9a4pKv</td>\n",
       "      <td>zPuQYDlxfB</td>\n",
       "      <td>Knee Raise</td>\n",
       "      <td>10</td>\n",
       "      <td>4.082336</td>\n",
       "      <td>fake_id_397</td>\n",
       "    </tr>\n",
       "    <tr>\n",
       "      <th>1</th>\n",
       "      <td>2021-07-01</td>\n",
       "      <td>RM8Jldvg36</td>\n",
       "      <td>dFycDkJyHe</td>\n",
       "      <td>Jf9JQJu5qI</td>\n",
       "      <td>Dumbbell Shoulder Raise</td>\n",
       "      <td>14</td>\n",
       "      <td>5.443115</td>\n",
       "      <td>fake_id_399</td>\n",
       "    </tr>\n",
       "    <tr>\n",
       "      <th>2</th>\n",
       "      <td>2021-03-24</td>\n",
       "      <td>TAeoS6xkDG</td>\n",
       "      <td>xPS7RzoOGm</td>\n",
       "      <td>zgz85BzGTP</td>\n",
       "      <td>Bent Over Barbell Row</td>\n",
       "      <td>8</td>\n",
       "      <td>27.669167</td>\n",
       "      <td>fake_id_394</td>\n",
       "    </tr>\n",
       "    <tr>\n",
       "      <th>3</th>\n",
       "      <td>2021-04-13</td>\n",
       "      <td>4YGjgnynpi</td>\n",
       "      <td>djuvlRHUvb</td>\n",
       "      <td>ZrkSmtwIdC</td>\n",
       "      <td>Dumbbell Rear Delt Raise</td>\n",
       "      <td>10</td>\n",
       "      <td>11.339823</td>\n",
       "      <td>fake_id_396</td>\n",
       "    </tr>\n",
       "    <tr>\n",
       "      <th>4</th>\n",
       "      <td>2021-06-29</td>\n",
       "      <td>4ANPWXAg8j</td>\n",
       "      <td>BN1DjSE1Zi</td>\n",
       "      <td>cYms1MVCiw</td>\n",
       "      <td>Romanian Deadlift</td>\n",
       "      <td>15</td>\n",
       "      <td>47.627255</td>\n",
       "      <td>fake_id_434</td>\n",
       "    </tr>\n",
       "  </tbody>\n",
       "</table>\n",
       "</div>"
      ],
      "text/plain": [
       "         Date   workoutId  exerciseId singleSetId              exerciseName  \\\n",
       "0  2021-07-12  W2NPPL0cw1  olwH9a4pKv  zPuQYDlxfB                Knee Raise   \n",
       "1  2021-07-01  RM8Jldvg36  dFycDkJyHe  Jf9JQJu5qI   Dumbbell Shoulder Raise   \n",
       "2  2021-03-24  TAeoS6xkDG  xPS7RzoOGm  zgz85BzGTP     Bent Over Barbell Row   \n",
       "3  2021-04-13  4YGjgnynpi  djuvlRHUvb  ZrkSmtwIdC  Dumbbell Rear Delt Raise   \n",
       "4  2021-06-29  4ANPWXAg8j  BN1DjSE1Zi  cYms1MVCiw         Romanian Deadlift   \n",
       "\n",
       "   reps     weight fake_user_id  \n",
       "0    10   4.082336  fake_id_397  \n",
       "1    14   5.443115  fake_id_399  \n",
       "2     8  27.669167  fake_id_394  \n",
       "3    10  11.339823  fake_id_396  \n",
       "4    15  47.627255  fake_id_434  "
      ]
     },
     "execution_count": 431,
     "metadata": {},
     "output_type": "execute_result"
    }
   ],
   "source": [
    "# To display the top 5 rows\n",
    "\n",
    "fitness_data.head()"
   ]
  },
  {
   "cell_type": "code",
   "execution_count": 432,
   "id": "c9bb7eae",
   "metadata": {},
   "outputs": [
    {
     "data": {
      "text/plain": [
       "(26824, 8)"
      ]
     },
     "execution_count": 432,
     "metadata": {},
     "output_type": "execute_result"
    }
   ],
   "source": [
    "# To find the shape of the data\n",
    "\n",
    "fitness_data.shape"
   ]
  },
  {
   "cell_type": "markdown",
   "id": "15c4c6cc",
   "metadata": {},
   "source": [
    "<span style=\"font-size:16px\"> The data has 26,824 rows and 8 colums(features) for analysis </span>"
   ]
  },
  {
   "cell_type": "code",
   "execution_count": 339,
   "id": "4e3b32f1",
   "metadata": {},
   "outputs": [
    {
     "data": {
      "text/plain": [
       "Date             object\n",
       "workoutId        object\n",
       "exerciseId       object\n",
       "singleSetId      object\n",
       "exerciseName     object\n",
       "reps              int64\n",
       "weight          float64\n",
       "fake_user_id     object\n",
       "dtype: object"
      ]
     },
     "execution_count": 339,
     "metadata": {},
     "output_type": "execute_result"
    }
   ],
   "source": [
    "#Checking the types of data\n",
    "\n",
    "fitness_data.dtypes"
   ]
  },
  {
   "cell_type": "markdown",
   "id": "a44849ba",
   "metadata": {},
   "source": [
    "<span style=\"font-size:16px\">  There are 2 numerical variables (reps and weight) and 4 Categorical variables (workoutId, exerciseId, singleSetId,exerciseName) </span>"
   ]
  },
  {
   "cell_type": "code",
   "execution_count": 433,
   "id": "f66dc0c1",
   "metadata": {},
   "outputs": [
    {
     "data": {
      "text/plain": [
       "Date            0\n",
       "workoutId       0\n",
       "exerciseId      0\n",
       "singleSetId     0\n",
       "exerciseName    0\n",
       "reps            0\n",
       "weight          0\n",
       "fake_user_id    0\n",
       "dtype: int64"
      ]
     },
     "execution_count": 433,
     "metadata": {},
     "output_type": "execute_result"
    }
   ],
   "source": [
    "# Checking for missing values in the data \n",
    "\n",
    "fitness_data.isna().sum()"
   ]
  },
  {
   "cell_type": "markdown",
   "id": "adb16adc",
   "metadata": {},
   "source": [
    "<span style=\"font-size:16px\"> There are no missing values in the data </span>"
   ]
  },
  {
   "cell_type": "markdown",
   "id": "3f070a12",
   "metadata": {},
   "source": [
    "## Distribution plots"
   ]
  },
  {
   "cell_type": "markdown",
   "id": "e913b9a7",
   "metadata": {},
   "source": [
    "<span style=\"font-size:16px\"> Violin plot is an alternative to box plot which is also visually pleasing. </span>\n",
    "\n",
    "\n",
    "\n",
    "\n",
    "<span style=\"font-size:16px\"> The shape or area of the violin depends on the number of observations. </span>"
   ]
  },
  {
   "cell_type": "code",
   "execution_count": 434,
   "id": "e57f2ff5",
   "metadata": {},
   "outputs": [],
   "source": [
    "# function to find the distributions \n",
    "\n",
    "def plot_distribution(col:str):\n",
    "    sns.set_theme(style=\"whitegrid\")\n",
    "    ax = sns.violinplot(x=fitness_data[col], scale = \"count\", inner = \"quartile\")\n",
    "    return ax"
   ]
  },
  {
   "cell_type": "code",
   "execution_count": 435,
   "id": "a9aa5a1f",
   "metadata": {},
   "outputs": [
    {
     "data": {
      "text/plain": [
       "<AxesSubplot:xlabel='reps'>"
      ]
     },
     "execution_count": 435,
     "metadata": {},
     "output_type": "execute_result"
    },
    {
     "data": {
      "image/png": "[encoded data removed]",
      "text/plain": [
       "<Figure size 432x288 with 1 Axes>"
      ]
     },
     "metadata": {},
     "output_type": "display_data"
    }
   ],
   "source": [
    "plot_distribution('reps')"
   ]
  },
  {
   "cell_type": "markdown",
   "id": "ec2a5110",
   "metadata": {},
   "source": [
    "<span style=\"font-size:16px\"> Reps is the number of repetitions a users does for a particular exercise </span>\n",
    "\n",
    "    \n",
    "<span style=\"font-size:16px\"> From the above distribution plot for numerical variable 'reps' the mininum value is zero and the maximum value is 75 </span>\n",
    "    \n",
    "    \n",
    "<span style=\"font-size:16px\">There are more number of 10s which indicates most users do 10 reps as a part of their exercises </span>"
   ]
  },
  {
   "cell_type": "code",
   "execution_count": 343,
   "id": "8da028d0",
   "metadata": {},
   "outputs": [
    {
     "data": {
      "text/plain": [
       "<AxesSubplot:xlabel='weight'>"
      ]
     },
     "execution_count": 343,
     "metadata": {},
     "output_type": "execute_result"
    },
    {
     "data": {
      "image/png": "[encoded data removed]",
      "text/plain": [
       "<Figure size 432x288 with 1 Axes>"
      ]
     },
     "metadata": {},
     "output_type": "display_data"
    }
   ],
   "source": [
    "plot_distribution('weight')"
   ]
  },
  {
   "cell_type": "markdown",
   "id": "1a7c6639",
   "metadata": {},
   "source": [
    "<span style=\"font-size:16px\"> Weight is the weight that a user lifts for a particular exercise </span>\n",
    "\n",
    "\n",
    "<span style=\"font-size:16px\"> From the above distribution plot for numerical variable 'weight' the mininum value is zero and the maximum value is 349.7 </span>\n",
    "    \n",
    "    \n",
    "<span style=\"font-size:16px\"> There are more number of 0s in the weight column. Some of the possible reasons might be\n",
    "    \n",
    "    \n",
    "    \n",
    "    1. Users not updating the weight in the app\n",
    "    2. Data pipeline errors which is not injesting data </span>\n",
    "\n",
    "<span style=\"font-size:16px\"> Generally, if there are more 0s, they those data rows can be deleted or replaced with an appropriate value(mean of the column) and retain the data based on number of rows.  </span>\n",
    "\n",
    "\n",
    "<span style=\"font-size:16px\">After some more analysis and deep dive into the data, I will decide if I need to replace the zeros or let them be. </span>"
   ]
  },
  {
   "cell_type": "code",
   "execution_count": 344,
   "id": "85cd6ce4",
   "metadata": {},
   "outputs": [
    {
     "data": {
      "text/html": [
       "<div>\n",
       "<style scoped>\n",
       "    .dataframe tbody tr th:only-of-type {\n",
       "        vertical-align: middle;\n",
       "    }\n",
       "\n",
       "    .dataframe tbody tr th {\n",
       "        vertical-align: top;\n",
       "    }\n",
       "\n",
       "    .dataframe thead th {\n",
       "        text-align: right;\n",
       "    }\n",
       "</style>\n",
       "<table border=\"1\" class=\"dataframe\">\n",
       "  <thead>\n",
       "    <tr style=\"text-align: right;\">\n",
       "      <th></th>\n",
       "      <th>reps</th>\n",
       "      <th>weight</th>\n",
       "    </tr>\n",
       "  </thead>\n",
       "  <tbody>\n",
       "    <tr>\n",
       "      <th>count</th>\n",
       "      <td>26824.000000</td>\n",
       "      <td>26824.000000</td>\n",
       "    </tr>\n",
       "    <tr>\n",
       "      <th>mean</th>\n",
       "      <td>10.933791</td>\n",
       "      <td>24.519004</td>\n",
       "    </tr>\n",
       "    <tr>\n",
       "      <th>std</th>\n",
       "      <td>5.532025</td>\n",
       "      <td>29.694824</td>\n",
       "    </tr>\n",
       "    <tr>\n",
       "      <th>min</th>\n",
       "      <td>0.000000</td>\n",
       "      <td>0.000000</td>\n",
       "    </tr>\n",
       "    <tr>\n",
       "      <th>25%</th>\n",
       "      <td>8.000000</td>\n",
       "      <td>0.000000</td>\n",
       "    </tr>\n",
       "    <tr>\n",
       "      <th>50%</th>\n",
       "      <td>10.000000</td>\n",
       "      <td>13.607787</td>\n",
       "    </tr>\n",
       "    <tr>\n",
       "      <th>75%</th>\n",
       "      <td>13.000000</td>\n",
       "      <td>38.555397</td>\n",
       "    </tr>\n",
       "    <tr>\n",
       "      <th>max</th>\n",
       "      <td>75.000000</td>\n",
       "      <td>349.720133</td>\n",
       "    </tr>\n",
       "  </tbody>\n",
       "</table>\n",
       "</div>"
      ],
      "text/plain": [
       "               reps        weight\n",
       "count  26824.000000  26824.000000\n",
       "mean      10.933791     24.519004\n",
       "std        5.532025     29.694824\n",
       "min        0.000000      0.000000\n",
       "25%        8.000000      0.000000\n",
       "50%       10.000000     13.607787\n",
       "75%       13.000000     38.555397\n",
       "max       75.000000    349.720133"
      ]
     },
     "execution_count": 344,
     "metadata": {},
     "output_type": "execute_result"
    }
   ],
   "source": [
    "# Other statistics of the numberical variables\n",
    "\n",
    "fitness_data.describe()"
   ]
  },
  {
   "cell_type": "code",
   "execution_count": 345,
   "id": "e9ab5bec",
   "metadata": {},
   "outputs": [
    {
     "data": {
      "image/png": "[encoded data removed]",
      "text/plain": [
       "<Figure size 432x288 with 2 Axes>"
      ]
     },
     "metadata": {},
     "output_type": "display_data"
    }
   ],
   "source": [
    "# Histograms of the numerical variables reps and weight\n",
    "\n",
    "hist = continuous_features.hist(bins=10)"
   ]
  },
  {
   "cell_type": "markdown",
   "id": "f56f234f",
   "metadata": {},
   "source": [
    "<span style=\"font-size:16px\"> From the data, \n",
    "    \n",
    "- There are 58 unique customers \n",
    "- 107 unique exercises with 107 exercise id's </span>"
   ]
  },
  {
   "cell_type": "code",
   "execution_count": 346,
   "id": "b91f80fe",
   "metadata": {},
   "outputs": [
    {
     "data": {
      "text/plain": [
       "Date              318\n",
       "workoutId        4214\n",
       "exerciseId        107\n",
       "singleSetId     26824\n",
       "exerciseName      107\n",
       "reps               46\n",
       "weight            188\n",
       "fake_user_id       58\n",
       "dtype: int64"
      ]
     },
     "execution_count": 346,
     "metadata": {},
     "output_type": "execute_result"
    }
   ],
   "source": [
    "# Unique values in the data\n",
    "\n",
    "unique_values = fitness_data.nunique(axis=0)\n",
    "unique_values"
   ]
  },
  {
   "cell_type": "markdown",
   "id": "45c45c18",
   "metadata": {},
   "source": [
    "### Types of users"
   ]
  },
  {
   "cell_type": "markdown",
   "id": "897baa2f",
   "metadata": {},
   "source": [
    "#### Top 10 users"
   ]
  },
  {
   "cell_type": "markdown",
   "id": "b5314c9c",
   "metadata": {},
   "source": [
    "<span style=\"font-size:16px\"> fake_id_402 This user has logged the most number of exercises. </span>\n",
    "\n",
    "<span style=\"font-size:16px\"> Analysis of this user will help understand the data better </span>"
   ]
  },
  {
   "cell_type": "code",
   "execution_count": 347,
   "id": "39896e9f",
   "metadata": {},
   "outputs": [
    {
     "name": "stdout",
     "output_type": "stream",
     "text": [
      "fake_id_402    1605\n",
      "fake_id_406    1483\n",
      "fake_id_401    1084\n",
      "fake_id_395     996\n",
      "fake_id_392     977\n",
      "fake_id_396     976\n",
      "fake_id_412     921\n",
      "fake_id_398     905\n",
      "fake_id_408     881\n",
      "fake_id_403     881\n",
      "Name: fake_user_id, dtype: int64\n"
     ]
    },
    {
     "data": {
      "text/plain": [
       "<AxesSubplot:>"
      ]
     },
     "execution_count": 347,
     "metadata": {},
     "output_type": "execute_result"
    },
    {
     "data": {
      "image/png": "[encoded data removed]",
      "text/plain": [
       "<Figure size 432x288 with 1 Axes>"
      ]
     },
     "metadata": {},
     "output_type": "display_data"
    }
   ],
   "source": [
    "# To find the 10 users who did most exercise\n",
    "\n",
    "users = fitness_data['fake_user_id'].value_counts()\n",
    "\n",
    "top_users = fitness_data['fake_user_id'].value_counts()[:10]\n",
    "print(top_users)\n",
    "\n",
    "top_users.sort_values().plot(kind = 'barh')"
   ]
  },
  {
   "cell_type": "code",
   "execution_count": 348,
   "id": "52ea020e",
   "metadata": {},
   "outputs": [
    {
     "name": "stdout",
     "output_type": "stream",
     "text": [
      "fake_id_447    94\n",
      "fake_id_445    87\n",
      "fake_id_404    76\n",
      "fake_id_442    74\n",
      "fake_id_446    64\n",
      "fake_id_444    49\n",
      "fake_id_421    35\n",
      "fake_id_443    25\n",
      "fake_id_449    10\n",
      "fake_id_437     3\n",
      "Name: fake_user_id, dtype: int64\n"
     ]
    },
    {
     "data": {
      "text/plain": [
       "<AxesSubplot:>"
      ]
     },
     "execution_count": 348,
     "metadata": {},
     "output_type": "execute_result"
    },
    {
     "data": {
      "image/png": "[encoded data removed]",
      "text/plain": [
       "<Figure size 432x288 with 1 Axes>"
      ]
     },
     "metadata": {},
     "output_type": "display_data"
    }
   ],
   "source": [
    "# To find the 10 users who did least exercise\n",
    "\n",
    "last10_users = fitness_data['fake_user_id'].value_counts()[-10:]\n",
    "print(last10_users)\n",
    "\n",
    "last10_users.sort_values().plot(kind = 'barh')"
   ]
  },
  {
   "cell_type": "markdown",
   "id": "1b852667",
   "metadata": {},
   "source": [
    "#### Analysing the top user 'fake_id_402'"
   ]
  },
  {
   "cell_type": "code",
   "execution_count": 349,
   "id": "bfbab2b6",
   "metadata": {},
   "outputs": [
    {
     "data": {
      "text/html": [
       "<div>\n",
       "<style scoped>\n",
       "    .dataframe tbody tr th:only-of-type {\n",
       "        vertical-align: middle;\n",
       "    }\n",
       "\n",
       "    .dataframe tbody tr th {\n",
       "        vertical-align: top;\n",
       "    }\n",
       "\n",
       "    .dataframe thead th {\n",
       "        text-align: right;\n",
       "    }\n",
       "</style>\n",
       "<table border=\"1\" class=\"dataframe\">\n",
       "  <thead>\n",
       "    <tr style=\"text-align: right;\">\n",
       "      <th></th>\n",
       "      <th>Date</th>\n",
       "      <th>workoutId</th>\n",
       "      <th>exerciseId</th>\n",
       "      <th>singleSetId</th>\n",
       "      <th>exerciseName</th>\n",
       "      <th>reps</th>\n",
       "      <th>weight</th>\n",
       "      <th>fake_user_id</th>\n",
       "    </tr>\n",
       "  </thead>\n",
       "  <tbody>\n",
       "    <tr>\n",
       "      <th>43</th>\n",
       "      <td>2021-01-04</td>\n",
       "      <td>RnNjXHFOiZ</td>\n",
       "      <td>dFycDkJyHe</td>\n",
       "      <td>TXEf3MvaJn</td>\n",
       "      <td>Dumbbell Shoulder Raise</td>\n",
       "      <td>7</td>\n",
       "      <td>5.669911</td>\n",
       "      <td>fake_id_402</td>\n",
       "    </tr>\n",
       "    <tr>\n",
       "      <th>75</th>\n",
       "      <td>2021-08-24</td>\n",
       "      <td>OHyf9uiW2Q</td>\n",
       "      <td>omtypRFVyt</td>\n",
       "      <td>5sk2KPL7xg</td>\n",
       "      <td>Power Clean</td>\n",
       "      <td>5</td>\n",
       "      <td>34.019468</td>\n",
       "      <td>fake_id_402</td>\n",
       "    </tr>\n",
       "    <tr>\n",
       "      <th>88</th>\n",
       "      <td>2021-01-28</td>\n",
       "      <td>Lc8D5s1pXY</td>\n",
       "      <td>djuvlRHUvb</td>\n",
       "      <td>YaTEaVcNTo</td>\n",
       "      <td>Dumbbell Rear Delt Raise</td>\n",
       "      <td>12</td>\n",
       "      <td>4.535929</td>\n",
       "      <td>fake_id_402</td>\n",
       "    </tr>\n",
       "    <tr>\n",
       "      <th>130</th>\n",
       "      <td>2021-02-22</td>\n",
       "      <td>1GOCj1lgO3</td>\n",
       "      <td>G1mxtZtEs5</td>\n",
       "      <td>amqs5c8mSK</td>\n",
       "      <td>Back Squat</td>\n",
       "      <td>10</td>\n",
       "      <td>43.091326</td>\n",
       "      <td>fake_id_402</td>\n",
       "    </tr>\n",
       "    <tr>\n",
       "      <th>145</th>\n",
       "      <td>2021-07-17</td>\n",
       "      <td>WEw7dI1qnL</td>\n",
       "      <td>243X43p1XP</td>\n",
       "      <td>7WrLKibgiX</td>\n",
       "      <td>Seated Leg Curl</td>\n",
       "      <td>8</td>\n",
       "      <td>40.823362</td>\n",
       "      <td>fake_id_402</td>\n",
       "    </tr>\n",
       "    <tr>\n",
       "      <th>...</th>\n",
       "      <td>...</td>\n",
       "      <td>...</td>\n",
       "      <td>...</td>\n",
       "      <td>...</td>\n",
       "      <td>...</td>\n",
       "      <td>...</td>\n",
       "      <td>...</td>\n",
       "      <td>...</td>\n",
       "    </tr>\n",
       "    <tr>\n",
       "      <th>26658</th>\n",
       "      <td>2021-07-18</td>\n",
       "      <td>nLPMGGtRem</td>\n",
       "      <td>dFycDkJyHe</td>\n",
       "      <td>5PoLyLYEmM</td>\n",
       "      <td>Dumbbell Shoulder Raise</td>\n",
       "      <td>10</td>\n",
       "      <td>5.669911</td>\n",
       "      <td>fake_id_402</td>\n",
       "    </tr>\n",
       "    <tr>\n",
       "      <th>26674</th>\n",
       "      <td>2021-04-08</td>\n",
       "      <td>bDYA19D2rr</td>\n",
       "      <td>G1mxtZtEs5</td>\n",
       "      <td>CIlcMVKJQY</td>\n",
       "      <td>Back Squat</td>\n",
       "      <td>5</td>\n",
       "      <td>43.091326</td>\n",
       "      <td>fake_id_402</td>\n",
       "    </tr>\n",
       "    <tr>\n",
       "      <th>26689</th>\n",
       "      <td>2021-04-21</td>\n",
       "      <td>SpJSy6RWaA</td>\n",
       "      <td>G1mxtZtEs5</td>\n",
       "      <td>eBrNR5NJHZ</td>\n",
       "      <td>Back Squat</td>\n",
       "      <td>3</td>\n",
       "      <td>47.627255</td>\n",
       "      <td>fake_id_402</td>\n",
       "    </tr>\n",
       "    <tr>\n",
       "      <th>26715</th>\n",
       "      <td>2021-04-21</td>\n",
       "      <td>SpJSy6RWaA</td>\n",
       "      <td>G1mxtZtEs5</td>\n",
       "      <td>EEDMpijz7o</td>\n",
       "      <td>Back Squat</td>\n",
       "      <td>3</td>\n",
       "      <td>47.627255</td>\n",
       "      <td>fake_id_402</td>\n",
       "    </tr>\n",
       "    <tr>\n",
       "      <th>26760</th>\n",
       "      <td>2021-05-24</td>\n",
       "      <td>NNWXXMtZ0H</td>\n",
       "      <td>s5tzCNPRXw</td>\n",
       "      <td>irKOedN0jN</td>\n",
       "      <td>Lunge Jump</td>\n",
       "      <td>5</td>\n",
       "      <td>0.000000</td>\n",
       "      <td>fake_id_402</td>\n",
       "    </tr>\n",
       "  </tbody>\n",
       "</table>\n",
       "<p>1605 rows × 8 columns</p>\n",
       "</div>"
      ],
      "text/plain": [
       "             Date   workoutId  exerciseId singleSetId  \\\n",
       "43     2021-01-04  RnNjXHFOiZ  dFycDkJyHe  TXEf3MvaJn   \n",
       "75     2021-08-24  OHyf9uiW2Q  omtypRFVyt  5sk2KPL7xg   \n",
       "88     2021-01-28  Lc8D5s1pXY  djuvlRHUvb  YaTEaVcNTo   \n",
       "130    2021-02-22  1GOCj1lgO3  G1mxtZtEs5  amqs5c8mSK   \n",
       "145    2021-07-17  WEw7dI1qnL  243X43p1XP  7WrLKibgiX   \n",
       "...           ...         ...         ...         ...   \n",
       "26658  2021-07-18  nLPMGGtRem  dFycDkJyHe  5PoLyLYEmM   \n",
       "26674  2021-04-08  bDYA19D2rr  G1mxtZtEs5  CIlcMVKJQY   \n",
       "26689  2021-04-21  SpJSy6RWaA  G1mxtZtEs5  eBrNR5NJHZ   \n",
       "26715  2021-04-21  SpJSy6RWaA  G1mxtZtEs5  EEDMpijz7o   \n",
       "26760  2021-05-24  NNWXXMtZ0H  s5tzCNPRXw  irKOedN0jN   \n",
       "\n",
       "                   exerciseName  reps     weight fake_user_id  \n",
       "43      Dumbbell Shoulder Raise     7   5.669911  fake_id_402  \n",
       "75                  Power Clean     5  34.019468  fake_id_402  \n",
       "88     Dumbbell Rear Delt Raise    12   4.535929  fake_id_402  \n",
       "130                  Back Squat    10  43.091326  fake_id_402  \n",
       "145             Seated Leg Curl     8  40.823362  fake_id_402  \n",
       "...                         ...   ...        ...          ...  \n",
       "26658   Dumbbell Shoulder Raise    10   5.669911  fake_id_402  \n",
       "26674                Back Squat     5  43.091326  fake_id_402  \n",
       "26689                Back Squat     3  47.627255  fake_id_402  \n",
       "26715                Back Squat     3  47.627255  fake_id_402  \n",
       "26760                Lunge Jump     5   0.000000  fake_id_402  \n",
       "\n",
       "[1605 rows x 8 columns]"
      ]
     },
     "execution_count": 349,
     "metadata": {},
     "output_type": "execute_result"
    }
   ],
   "source": [
    "# Analysis of the top user\n",
    "\n",
    "top_user = fitness_data.loc[fitness_data['fake_user_id'] == 'fake_id_402']\n",
    "top_user"
   ]
  },
  {
   "cell_type": "code",
   "execution_count": 350,
   "id": "2638c1c2",
   "metadata": {},
   "outputs": [
    {
     "data": {
      "text/html": [
       "<div>\n",
       "<style scoped>\n",
       "    .dataframe tbody tr th:only-of-type {\n",
       "        vertical-align: middle;\n",
       "    }\n",
       "\n",
       "    .dataframe tbody tr th {\n",
       "        vertical-align: top;\n",
       "    }\n",
       "\n",
       "    .dataframe thead th {\n",
       "        text-align: right;\n",
       "    }\n",
       "</style>\n",
       "<table border=\"1\" class=\"dataframe\">\n",
       "  <thead>\n",
       "    <tr style=\"text-align: right;\">\n",
       "      <th></th>\n",
       "      <th>Date</th>\n",
       "      <th>workoutId</th>\n",
       "      <th>exerciseId</th>\n",
       "      <th>singleSetId</th>\n",
       "      <th>exerciseName</th>\n",
       "      <th>reps</th>\n",
       "      <th>weight</th>\n",
       "      <th>fake_user_id</th>\n",
       "    </tr>\n",
       "  </thead>\n",
       "  <tbody>\n",
       "    <tr>\n",
       "      <th>155</th>\n",
       "      <td>2021-02-17</td>\n",
       "      <td>OlsKsylvA2</td>\n",
       "      <td>DdtF1OFcuQ</td>\n",
       "      <td>FZixs7X8RK</td>\n",
       "      <td>Tricep Push Up</td>\n",
       "      <td>11</td>\n",
       "      <td>0.0</td>\n",
       "      <td>fake_id_402</td>\n",
       "    </tr>\n",
       "    <tr>\n",
       "      <th>17865</th>\n",
       "      <td>2021-02-23</td>\n",
       "      <td>ZqQfJS5qMi</td>\n",
       "      <td>DdtF1OFcuQ</td>\n",
       "      <td>ecHURGnkhy</td>\n",
       "      <td>Tricep Push Up</td>\n",
       "      <td>12</td>\n",
       "      <td>0.0</td>\n",
       "      <td>fake_id_402</td>\n",
       "    </tr>\n",
       "    <tr>\n",
       "      <th>17800</th>\n",
       "      <td>2021-03-15</td>\n",
       "      <td>1EQ7Ikxejh</td>\n",
       "      <td>DdtF1OFcuQ</td>\n",
       "      <td>m048xfr6OO</td>\n",
       "      <td>Tricep Push Up</td>\n",
       "      <td>10</td>\n",
       "      <td>0.0</td>\n",
       "      <td>fake_id_402</td>\n",
       "    </tr>\n",
       "    <tr>\n",
       "      <th>17780</th>\n",
       "      <td>2021-01-15</td>\n",
       "      <td>Ntzc8W2FY7</td>\n",
       "      <td>N6zu9IJNBz</td>\n",
       "      <td>3vFBrPcwDu</td>\n",
       "      <td>Leg Raise</td>\n",
       "      <td>7</td>\n",
       "      <td>0.0</td>\n",
       "      <td>fake_id_402</td>\n",
       "    </tr>\n",
       "    <tr>\n",
       "      <th>17698</th>\n",
       "      <td>2021-03-26</td>\n",
       "      <td>f7GC39SDGu</td>\n",
       "      <td>crpeAKEXTd</td>\n",
       "      <td>07HaRC9hlf</td>\n",
       "      <td>TRX Atomic Push Up</td>\n",
       "      <td>5</td>\n",
       "      <td>0.0</td>\n",
       "      <td>fake_id_402</td>\n",
       "    </tr>\n",
       "    <tr>\n",
       "      <th>...</th>\n",
       "      <td>...</td>\n",
       "      <td>...</td>\n",
       "      <td>...</td>\n",
       "      <td>...</td>\n",
       "      <td>...</td>\n",
       "      <td>...</td>\n",
       "      <td>...</td>\n",
       "      <td>...</td>\n",
       "    </tr>\n",
       "    <tr>\n",
       "      <th>8979</th>\n",
       "      <td>2021-07-02</td>\n",
       "      <td>JAECPPgt8k</td>\n",
       "      <td>AF7Qq7XK2r</td>\n",
       "      <td>WfGcM2I8gb</td>\n",
       "      <td>Air Squats</td>\n",
       "      <td>11</td>\n",
       "      <td>0.0</td>\n",
       "      <td>fake_id_402</td>\n",
       "    </tr>\n",
       "    <tr>\n",
       "      <th>8963</th>\n",
       "      <td>2021-03-18</td>\n",
       "      <td>NMNjaZtu8s</td>\n",
       "      <td>N6zu9IJNBz</td>\n",
       "      <td>x19qSGvjA5</td>\n",
       "      <td>Leg Raise</td>\n",
       "      <td>10</td>\n",
       "      <td>0.0</td>\n",
       "      <td>fake_id_402</td>\n",
       "    </tr>\n",
       "    <tr>\n",
       "      <th>8946</th>\n",
       "      <td>2021-03-05</td>\n",
       "      <td>omAfoELa6N</td>\n",
       "      <td>N6zu9IJNBz</td>\n",
       "      <td>iizyTEfxLq</td>\n",
       "      <td>Leg Raise</td>\n",
       "      <td>10</td>\n",
       "      <td>0.0</td>\n",
       "      <td>fake_id_402</td>\n",
       "    </tr>\n",
       "    <tr>\n",
       "      <th>9437</th>\n",
       "      <td>2021-04-26</td>\n",
       "      <td>tufsrW62PH</td>\n",
       "      <td>qfkBJ4A5eQ</td>\n",
       "      <td>Hspwp0G0Mp</td>\n",
       "      <td>Dead Bug</td>\n",
       "      <td>7</td>\n",
       "      <td>0.0</td>\n",
       "      <td>fake_id_402</td>\n",
       "    </tr>\n",
       "    <tr>\n",
       "      <th>26760</th>\n",
       "      <td>2021-05-24</td>\n",
       "      <td>NNWXXMtZ0H</td>\n",
       "      <td>s5tzCNPRXw</td>\n",
       "      <td>irKOedN0jN</td>\n",
       "      <td>Lunge Jump</td>\n",
       "      <td>5</td>\n",
       "      <td>0.0</td>\n",
       "      <td>fake_id_402</td>\n",
       "    </tr>\n",
       "  </tbody>\n",
       "</table>\n",
       "<p>502 rows × 8 columns</p>\n",
       "</div>"
      ],
      "text/plain": [
       "             Date   workoutId  exerciseId singleSetId        exerciseName  \\\n",
       "155    2021-02-17  OlsKsylvA2  DdtF1OFcuQ  FZixs7X8RK      Tricep Push Up   \n",
       "17865  2021-02-23  ZqQfJS5qMi  DdtF1OFcuQ  ecHURGnkhy      Tricep Push Up   \n",
       "17800  2021-03-15  1EQ7Ikxejh  DdtF1OFcuQ  m048xfr6OO      Tricep Push Up   \n",
       "17780  2021-01-15  Ntzc8W2FY7  N6zu9IJNBz  3vFBrPcwDu           Leg Raise   \n",
       "17698  2021-03-26  f7GC39SDGu  crpeAKEXTd  07HaRC9hlf  TRX Atomic Push Up   \n",
       "...           ...         ...         ...         ...                 ...   \n",
       "8979   2021-07-02  JAECPPgt8k  AF7Qq7XK2r  WfGcM2I8gb          Air Squats   \n",
       "8963   2021-03-18  NMNjaZtu8s  N6zu9IJNBz  x19qSGvjA5           Leg Raise   \n",
       "8946   2021-03-05  omAfoELa6N  N6zu9IJNBz  iizyTEfxLq           Leg Raise   \n",
       "9437   2021-04-26  tufsrW62PH  qfkBJ4A5eQ  Hspwp0G0Mp            Dead Bug   \n",
       "26760  2021-05-24  NNWXXMtZ0H  s5tzCNPRXw  irKOedN0jN          Lunge Jump   \n",
       "\n",
       "       reps  weight fake_user_id  \n",
       "155      11     0.0  fake_id_402  \n",
       "17865    12     0.0  fake_id_402  \n",
       "17800    10     0.0  fake_id_402  \n",
       "17780     7     0.0  fake_id_402  \n",
       "17698     5     0.0  fake_id_402  \n",
       "...     ...     ...          ...  \n",
       "8979     11     0.0  fake_id_402  \n",
       "8963     10     0.0  fake_id_402  \n",
       "8946     10     0.0  fake_id_402  \n",
       "9437      7     0.0  fake_id_402  \n",
       "26760     5     0.0  fake_id_402  \n",
       "\n",
       "[502 rows x 8 columns]"
      ]
     },
     "execution_count": 350,
     "metadata": {},
     "output_type": "execute_result"
    }
   ],
   "source": [
    "# Top user exercises with weight 0\n",
    "\n",
    "fitness_data.loc[(fitness_data['fake_user_id'] == 'fake_id_402') & (fitness_data['weight'] == 0)].sort_values(by = 'weight')\n"
   ]
  },
  {
   "cell_type": "code",
   "execution_count": 351,
   "id": "a9b93586",
   "metadata": {},
   "outputs": [
    {
     "name": "stdout",
     "output_type": "stream",
     "text": [
      "Leg Raise             102\n",
      "Tricep Push Up         92\n",
      "Hanging Leg Raise      85\n",
      "Back Squat             66\n",
      "Barbell Hip Thrust     64\n",
      "Name: exerciseName, dtype: int64\n"
     ]
    },
    {
     "data": {
      "text/plain": [
       "<AxesSubplot:>"
      ]
     },
     "execution_count": 351,
     "metadata": {},
     "output_type": "execute_result"
    },
    {
     "data": {
      "image/png": "[encoded data removed]",
      "text/plain": [
       "<Figure size 432x288 with 1 Axes>"
      ]
     },
     "metadata": {},
     "output_type": "display_data"
    }
   ],
   "source": [
    "# Most done exercises of the top user\n",
    "\n",
    "top_user_exercise = top_user['exerciseName'].value_counts()[:5]\n",
    "print(top_user_exercise)\n",
    "\n",
    "top_user_exercise.sort_values().plot(kind = 'barh')"
   ]
  },
  {
   "cell_type": "code",
   "execution_count": 352,
   "id": "4a2e64f1",
   "metadata": {},
   "outputs": [
    {
     "data": {
      "text/plain": [
       "Date             195\n",
       "workoutId        211\n",
       "exerciseId        73\n",
       "singleSetId     1605\n",
       "exerciseName      73\n",
       "reps              19\n",
       "weight            48\n",
       "fake_user_id       1\n",
       "dtype: int64"
      ]
     },
     "execution_count": 352,
     "metadata": {},
     "output_type": "execute_result"
    }
   ],
   "source": [
    "top_user.nunique(axis=0)"
   ]
  },
  {
   "cell_type": "code",
   "execution_count": 353,
   "id": "3868376f",
   "metadata": {},
   "outputs": [
    {
     "data": {
      "text/plain": [
       "8.23076923076923"
      ]
     },
     "execution_count": 353,
     "metadata": {},
     "output_type": "execute_result"
    }
   ],
   "source": [
    "# Average number of times the user does exercise over the time\n",
    "top_user['Date'].value_counts().mean()"
   ]
  },
  {
   "cell_type": "code",
   "execution_count": 354,
   "id": "7ce36bbb",
   "metadata": {},
   "outputs": [
    {
     "data": {
      "text/html": [
       "<div>\n",
       "<style scoped>\n",
       "    .dataframe tbody tr th:only-of-type {\n",
       "        vertical-align: middle;\n",
       "    }\n",
       "\n",
       "    .dataframe tbody tr th {\n",
       "        vertical-align: top;\n",
       "    }\n",
       "\n",
       "    .dataframe thead th {\n",
       "        text-align: right;\n",
       "    }\n",
       "</style>\n",
       "<table border=\"1\" class=\"dataframe\">\n",
       "  <thead>\n",
       "    <tr style=\"text-align: right;\">\n",
       "      <th></th>\n",
       "      <th>reps</th>\n",
       "      <th>weight</th>\n",
       "    </tr>\n",
       "  </thead>\n",
       "  <tbody>\n",
       "    <tr>\n",
       "      <th>count</th>\n",
       "      <td>1605.000000</td>\n",
       "      <td>1605.000000</td>\n",
       "    </tr>\n",
       "    <tr>\n",
       "      <th>mean</th>\n",
       "      <td>8.584424</td>\n",
       "      <td>20.059602</td>\n",
       "    </tr>\n",
       "    <tr>\n",
       "      <th>std</th>\n",
       "      <td>3.192671</td>\n",
       "      <td>22.879966</td>\n",
       "    </tr>\n",
       "    <tr>\n",
       "      <th>min</th>\n",
       "      <td>0.000000</td>\n",
       "      <td>0.000000</td>\n",
       "    </tr>\n",
       "    <tr>\n",
       "      <th>25%</th>\n",
       "      <td>6.000000</td>\n",
       "      <td>0.000000</td>\n",
       "    </tr>\n",
       "    <tr>\n",
       "      <th>50%</th>\n",
       "      <td>8.000000</td>\n",
       "      <td>13.607787</td>\n",
       "    </tr>\n",
       "    <tr>\n",
       "      <th>75%</th>\n",
       "      <td>10.000000</td>\n",
       "      <td>29.483539</td>\n",
       "    </tr>\n",
       "    <tr>\n",
       "      <th>max</th>\n",
       "      <td>22.000000</td>\n",
       "      <td>92.986546</td>\n",
       "    </tr>\n",
       "  </tbody>\n",
       "</table>\n",
       "</div>"
      ],
      "text/plain": [
       "              reps       weight\n",
       "count  1605.000000  1605.000000\n",
       "mean      8.584424    20.059602\n",
       "std       3.192671    22.879966\n",
       "min       0.000000     0.000000\n",
       "25%       6.000000     0.000000\n",
       "50%       8.000000    13.607787\n",
       "75%      10.000000    29.483539\n",
       "max      22.000000    92.986546"
      ]
     },
     "execution_count": 354,
     "metadata": {},
     "output_type": "execute_result"
    }
   ],
   "source": [
    "# Statistics of the top user\n",
    "top_user.describe()"
   ]
  },
  {
   "cell_type": "markdown",
   "id": "d9559250",
   "metadata": {},
   "source": [
    "<span style=\"font-size:16px\"> Summary from the above analysis of the top user(fake_id_402), </span>\n",
    "\n",
    "- The top user has done exercise 1605 times over the time.\n",
    "- User has done 73 exercises out of 107 different exercises.\n",
    "- For the user, the top exercises like Leg Raise, Tricep Push Up etc, have 0 weight which makes sense because some exercises may not need weights or the user prefers not to use weight.\n",
    "- So, for model building the weight 0 is not replaced or removed.\n",
    "- This type of analysis can be done for different users by grouping them based on their type of exercises."
   ]
  },
  {
   "cell_type": "markdown",
   "id": "9ed30404",
   "metadata": {},
   "source": [
    "### Top exercises"
   ]
  },
  {
   "cell_type": "markdown",
   "id": "bbc1dfb3",
   "metadata": {},
   "source": [
    "<span style=\"font-size:16px\"> 1. Back Squat is the most popular exercise is done 1544 times with 39 unique users and average of 6.8 reps and 80.15 weight </span>\n",
    "\n",
    "\n",
    "<span style=\"font-size:16px\"> 2. Freemotion Chest Press is least done exercise with 1 user </span>\n"
   ]
  },
  {
   "cell_type": "code",
   "execution_count": 355,
   "id": "12f1399c",
   "metadata": {},
   "outputs": [
    {
     "name": "stdout",
     "output_type": "stream",
     "text": [
      "Back Squat                  1544\n",
      "Dumbbell Rear Delt Raise     872\n",
      "Barbell Shoulder Press       848\n",
      "Dumbbell Kickbacks           821\n",
      "Air Squats                   813\n",
      "Calf Raise                   804\n",
      "Seated Leg Curl              787\n",
      "Tricep Push Up               778\n",
      "Romanian Deadlift            741\n",
      "Dumbbell Shoulder Raise      693\n",
      "Name: exerciseName, dtype: int64\n"
     ]
    },
    {
     "data": {
      "text/plain": [
       "<AxesSubplot:>"
      ]
     },
     "execution_count": 355,
     "metadata": {},
     "output_type": "execute_result"
    },
    {
     "data": {
      "image/png": "[encoded data removed]",
      "text/plain": [
       "<Figure size 432x288 with 1 Axes>"
      ]
     },
     "metadata": {},
     "output_type": "display_data"
    }
   ],
   "source": [
    "# To find the 10 exercises done by the users\n",
    "\n",
    "exercises = fitness_data['exerciseName'].value_counts()\n",
    "\n",
    "top10_exercises = fitness_data['exerciseName'].value_counts()[:10]\n",
    "print(top10_exercises)\n",
    "\n",
    "top10_exercises.sort_values().plot(kind = 'barh')"
   ]
  },
  {
   "cell_type": "code",
   "execution_count": 356,
   "id": "1a8f5279",
   "metadata": {},
   "outputs": [
    {
     "name": "stdout",
     "output_type": "stream",
     "text": [
      "Machine Shoulder Shrug        18\n",
      "TRX Fallout                   18\n",
      "Torture Twist                 17\n",
      "TRX Side Plank                14\n",
      "Handle Band Squat to Press    13\n",
      "Abs Bike                      12\n",
      "Kettlebell Pistol Squat       11\n",
      "Decline Leg Raise              8\n",
      "Sled Pull                      8\n",
      "Freemotion Chest Press         2\n",
      "Name: exerciseName, dtype: int64\n"
     ]
    },
    {
     "data": {
      "text/plain": [
       "<AxesSubplot:>"
      ]
     },
     "execution_count": 356,
     "metadata": {},
     "output_type": "execute_result"
    },
    {
     "data": {
      "image/png": "[encoded data removed]",
      "text/plain": [
       "<Figure size 432x288 with 1 Axes>"
      ]
     },
     "metadata": {},
     "output_type": "display_data"
    }
   ],
   "source": [
    "# To see the least done exercises \n",
    "\n",
    "last10_exercises = exercises.iloc[-10:]\n",
    "print(last10_exercises)\n",
    "\n",
    "last10_exercises.sort_values().plot(kind = 'barh')"
   ]
  },
  {
   "cell_type": "code",
   "execution_count": 357,
   "id": "3b6f6281",
   "metadata": {},
   "outputs": [
    {
     "data": {
      "text/plain": [
       "Date             213\n",
       "workoutId        381\n",
       "exerciseId         1\n",
       "singleSetId     1544\n",
       "exerciseName       1\n",
       "reps              16\n",
       "weight            78\n",
       "fake_user_id      39\n",
       "dtype: int64"
      ]
     },
     "execution_count": 357,
     "metadata": {},
     "output_type": "execute_result"
    }
   ],
   "source": [
    "# Unique users who prefer back squats\n",
    "\n",
    "unique_backSquat = fitness_data.loc[fitness_data['exerciseName'] == 'Back Squat']\n",
    "unique_backSquat.nunique(axis=0)"
   ]
  },
  {
   "cell_type": "code",
   "execution_count": 358,
   "id": "85aa817b",
   "metadata": {},
   "outputs": [
    {
     "data": {
      "text/plain": [
       "Date            1\n",
       "workoutId       1\n",
       "exerciseId      1\n",
       "singleSetId     2\n",
       "exerciseName    1\n",
       "reps            1\n",
       "weight          1\n",
       "fake_user_id    1\n",
       "dtype: int64"
      ]
     },
     "execution_count": 358,
     "metadata": {},
     "output_type": "execute_result"
    }
   ],
   "source": [
    "unique_freemotion = fitness_data.loc[fitness_data['exerciseName'] == 'Freemotion Chest Press']\n",
    "unique_freemotion.nunique(axis=0)"
   ]
  },
  {
   "cell_type": "markdown",
   "id": "be575abd",
   "metadata": {},
   "source": [
    "## Model Building"
   ]
  },
  {
   "cell_type": "markdown",
   "id": "a546b1fa",
   "metadata": {},
   "source": [
    "<span style=\"font-size:16px\"> We can run a simple linear regression model to predict the number of reps the user can do for a given weight based on the type of exercise.\n",
    "I am using simple linear regression for the explainability of the model and also the availability of data</span>"
   ]
  },
  {
   "cell_type": "markdown",
   "id": "e6daa609",
   "metadata": {},
   "source": [
    "### Data Preparation "
   ]
  },
  {
   "cell_type": "markdown",
   "id": "d8dc5665",
   "metadata": {},
   "source": [
    "<span style=\"font-size:16px\"> Firstly, to prepare the data for modelling I am dropping the non-relevant variables. \n",
    "    \n",
    "exerciseId is being dropped because it is analogous to exerciseName and other variables do not provide much information </span>"
   ]
  },
  {
   "cell_type": "code",
   "execution_count": 377,
   "id": "22a70a87",
   "metadata": {},
   "outputs": [
    {
     "data": {
      "text/html": [
       "<div>\n",
       "<style scoped>\n",
       "    .dataframe tbody tr th:only-of-type {\n",
       "        vertical-align: middle;\n",
       "    }\n",
       "\n",
       "    .dataframe tbody tr th {\n",
       "        vertical-align: top;\n",
       "    }\n",
       "\n",
       "    .dataframe thead th {\n",
       "        text-align: right;\n",
       "    }\n",
       "</style>\n",
       "<table border=\"1\" class=\"dataframe\">\n",
       "  <thead>\n",
       "    <tr style=\"text-align: right;\">\n",
       "      <th></th>\n",
       "      <th>exerciseName</th>\n",
       "      <th>reps</th>\n",
       "      <th>weight</th>\n",
       "    </tr>\n",
       "  </thead>\n",
       "  <tbody>\n",
       "    <tr>\n",
       "      <th>0</th>\n",
       "      <td>Knee Raise</td>\n",
       "      <td>10</td>\n",
       "      <td>4.082336</td>\n",
       "    </tr>\n",
       "    <tr>\n",
       "      <th>1</th>\n",
       "      <td>Dumbbell Shoulder Raise</td>\n",
       "      <td>14</td>\n",
       "      <td>5.443115</td>\n",
       "    </tr>\n",
       "    <tr>\n",
       "      <th>2</th>\n",
       "      <td>Bent Over Barbell Row</td>\n",
       "      <td>8</td>\n",
       "      <td>27.669167</td>\n",
       "    </tr>\n",
       "    <tr>\n",
       "      <th>3</th>\n",
       "      <td>Dumbbell Rear Delt Raise</td>\n",
       "      <td>10</td>\n",
       "      <td>11.339823</td>\n",
       "    </tr>\n",
       "    <tr>\n",
       "      <th>4</th>\n",
       "      <td>Romanian Deadlift</td>\n",
       "      <td>15</td>\n",
       "      <td>47.627255</td>\n",
       "    </tr>\n",
       "  </tbody>\n",
       "</table>\n",
       "</div>"
      ],
      "text/plain": [
       "               exerciseName  reps     weight\n",
       "0                Knee Raise    10   4.082336\n",
       "1   Dumbbell Shoulder Raise    14   5.443115\n",
       "2     Bent Over Barbell Row     8  27.669167\n",
       "3  Dumbbell Rear Delt Raise    10  11.339823\n",
       "4         Romanian Deadlift    15  47.627255"
      ]
     },
     "execution_count": 377,
     "metadata": {},
     "output_type": "execute_result"
    }
   ],
   "source": [
    "# Dropping irrelevant columns\n",
    "df = fitness_data.drop(['Date', 'workoutId', 'exerciseId', 'singleSetId', 'fake_user_id'], axis=1)\n",
    "df.head()"
   ]
  },
  {
   "cell_type": "markdown",
   "id": "f2e8a5bb",
   "metadata": {},
   "source": [
    "\n",
    "<span style=\"font-size:16px\"> There are no null values to drop </span>\n",
    "\n",
    "<span style=\"font-size:16px\">  Weight 0 is valid for most of the exercises so retaining it </span>"
   ]
  },
  {
   "cell_type": "code",
   "execution_count": 425,
   "id": "ca6e464e",
   "metadata": {},
   "outputs": [],
   "source": [
    "# Function to fit the regression model\n",
    "\n",
    "def fit_linear_regression(dataset, exercisename):\n",
    "    from sklearn.model_selection import train_test_split\n",
    "    from sklearn.linear_model import LinearRegression \n",
    "    from sklearn.metrics import mean_squared_error, r2_score\n",
    "    X = dataset.loc[dataset['exerciseName'] == exercisename]['weight']\n",
    "    y = dataset.loc[dataset['exerciseName'] == exercisename]['reps']\n",
    "    X_train, X_test, y_train, y_test = train_test_split(X, y, test_size = 0.3, random_state = 135153)\n",
    "    #print(X_train.values.reshape(-1,1))\n",
    "    model = LinearRegression().fit(X_train.values.reshape(-1,1), y_train)\n",
    "    # Make predictions using the testing set\n",
    "    pred = model.predict(X_test.values.reshape(-1,1))\n",
    "    # The coefficients\n",
    "    print(\"Coefficients: \\n\", model.coef_)\n",
    "    # The mean squared error\n",
    "    print(\"Mean squared error: %.2f\" % mean_squared_error(y_test, pred))\n",
    "    # The coefficient of determination: 1 is perfect prediction\n",
    "    print(\"Coefficient of determination: %.2f\" % r2_score(y_test, pred))\n",
    "    return model.score(X_test.values.reshape(-1,1), y_test)"
   ]
  },
  {
   "cell_type": "markdown",
   "id": "3d5a00b2",
   "metadata": {},
   "source": [
    "### Results \n",
    "\n",
    "<span style=\"font-size:16px\"> The Mean Squared Error (MSE) is a measure of how close a fitted line is to data points. Here, the MSE is 7.40. Lower the MSE, the closer is forecast to actual value and indicates a better fit. </span>\n",
    "    \n",
    "<span style=\"font-size:16px\">  R squared or Coefficient of determination is the proportion of the variation in the dependent variable that is predictable from the independent variables. </span>\n",
    "\n",
    "<span style=\"font-size:16px\">  A value of 1.0 indicates a perfect fit, which is a highly reliable model, while a value of 0.01 would indicate that the calculation fails to accurately model the data. </span>"
   ]
  },
  {
   "cell_type": "code",
   "execution_count": 429,
   "id": "50128b0c",
   "metadata": {},
   "outputs": [
    {
     "name": "stdout",
     "output_type": "stream",
     "text": [
      "Coefficients: \n",
      " [-0.74653799]\n",
      "Mean squared error: 7.40\n",
      "Coefficient of determination: 0.01\n"
     ]
    }
   ],
   "source": [
    "lr = fit_linear_regression(df, 'Knee Raise')"
   ]
  },
  {
   "cell_type": "markdown",
   "id": "b7eccd80",
   "metadata": {},
   "source": [
    "## Conclusion and Points to Consider:"
   ]
  },
  {
   "cell_type": "markdown",
   "id": "6cd7c06d",
   "metadata": {},
   "source": [
    "\n",
    "<span style=\"font-size:14px\">  Some explanations about singleSetId would have helped.\n",
    "For example, if we look at the data for fake_id_402 on 1/5/21, the user has done 4 different types of exercises and each exercise has been logged 3 times with a different singleSetId for same reps and weight </span>\n",
    "\n",
    "<span style=\"font-size:14px\">  Need more data in terms of some features related to users to explore more about what types of exercises are being suggested and build a better model </span>\n",
    "\n",
    "<span style=\"font-size:14px\">  Based on the model, a scoring data set would help to evaluate the model on unseen data </span>\n",
    "\n"
   ]
  }
 ],
 "metadata": {
  "kernelspec": {
   "display_name": "Python 3 (ipykernel)",
   "language": "python",
   "name": "python3"
  },
  "language_info": {
   "codemirror_mode": {
    "name": "ipython",
    "version": 3
   },
   "file_extension": ".py",
   "mimetype": "text/x-python",
   "name": "python",
   "nbconvert_exporter": "python",
   "pygments_lexer": "ipython3",
   "version": "3.9.7"
  }
 },
 "nbformat": 4,
 "nbformat_minor": 5
}